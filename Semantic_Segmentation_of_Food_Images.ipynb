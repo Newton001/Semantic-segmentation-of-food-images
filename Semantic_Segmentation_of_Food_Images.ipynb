{
 "cells": [
  {
   "cell_type": "code",
   "execution_count": 6,
   "id": "initial_id",
   "metadata": {
    "collapsed": true,
    "ExecuteTime": {
     "end_time": "2024-02-04T14:51:01.448855Z",
     "start_time": "2024-02-04T14:51:01.439247400Z"
    }
   },
   "outputs": [],
   "source": [
    "import numpy as np\n",
    "import torch \n",
    "import torchvision \n",
    "import os\n",
    "from torchvision.io import read_image\n",
    "from torchvision.ops.boxes import masks_to_boxes\n",
    "from torchvision.models.detection.faster_rcnn import FastRCNNPredictor\n",
    "from torchvision.models.detection.mask_rcnn import MaskRCNNPredictor\n",
    "from torch.utils.data import DataLoader\n",
    "from torchvision.utils import draw_bounding_boxes, draw_segmentation_masks\n",
    "import matplotlib.pyplot as plt\n",
    "import transforms as T\n",
    "from PIL import Image"
   ]
  },
  {
   "cell_type": "code",
   "execution_count": 9,
   "outputs": [
    {
     "name": "stdout",
     "output_type": "stream",
     "text": [
      "C:\\Users\\newto\\OneDrive\\Documents\\Projects\\New folder\\Semantic_segmentation_of_food_images/Food_data/training/trainingimages\n"
     ]
    }
   ],
   "source": [
    "split_folder = \"training\" if True else \"validation\"\n",
    "img_folder = os.getcwd() + \"/Food_data/training/\" + split_folder +\"images\"\n",
    "print(img_folder)"
   ],
   "metadata": {
    "collapsed": false,
    "ExecuteTime": {
     "end_time": "2024-02-04T19:08:39.814489100Z",
     "start_time": "2024-02-04T19:08:39.809205200Z"
    }
   },
   "id": "dad6518c0c15716c"
  },
  {
   "cell_type": "code",
   "execution_count": 10,
   "outputs": [],
   "source": [
    "class FoodDataset(torch.utils.data.Dataset):\n",
    "    def __init__(self, root, transforms, is_train=True):\n",
    "        self.root = root\n",
    "        self.transforms = transforms\n",
    "        split_folder = \"training\" if is_train else \"validation\"\n",
    "        \n",
    "        self.img_folder = os.getcwd() + \"/Food_data/training\" + split_folder + \"images\"\n",
    "        self.mask_folder = os.getcwd() + \"/Food_data/training\" + split_folder + \"labels\"\n",
    "        \n",
    "        # Filter Out Images with Empty masks\n",
    "        self.imgs = []\n",
    "        self.masks = []\n",
    "        \n",
    "        for mask_path in os.listdir(self.mask_folder):\n",
    "            mask = Image.open(self.mask_folder + \"/\" + mask_path)\n",
    "            mask = np.array(mask)[:,:,2]\n",
    "            obj_ids = np.unique(mask)\n",
    "            obj_ids = obj_ids[1:]\n",
    "            if len(obj_ids) == 1:\n",
    "                img_path = mask_path.replace('png','jpg')\n",
    "                self.imgs.append(img_path)\n",
    "                self.masks.append(mask_path)\n",
    "                \n",
    "    def __getitem__(self, idx):\n",
    "        img_path = self.img_folder + \"/\" + self.imgs[idx]\n",
    "        mask_path = self.mask_folder + \"/\" + self.masks[idx]\n",
    "        \n",
    "        img = Image.open(img_path).convert(\"RGB\")\n",
    "        mask = Image.open(mask_path)\n",
    "        \n",
    "        if img.size !=mask.size:\n",
    "            img = img.resize(mask.size)\n",
    "            \n",
    "        mask = np.array(mask)[:,:,2]\n",
    "        obj_ids = np.unique(mask)\n",
    "        obj_ids = obj_ids[1:]\n",
    "        \n",
    "        masks = mask == obj_ids[:, None, None]\n",
    "        \n",
    "        num_objs = len(obj_ids)\n",
    "        boxes = []\n",
    "        \n",
    "        for i in range(num_objs):\n",
    "            pos = np.nonzero(masks[i])\n",
    "            xmin = np.min(pos[1])\n",
    "            xmax = np.max(pos[1])\n",
    "            ymin = np.min(pos[0])\n",
    "            ymax = np.max(pos[0])\n",
    "            boxes.append([xmin, ymin, xmax, ymax])\n",
    "            \n",
    "        boxes = torch.as_tensor(boxes, dtype=torch.float32)\n",
    "        labels = torch.ones((num_objs), dtype=torch.int64)\n",
    "        masks = torch.as_tensor(masks, dtype=torch.uint8)\n",
    "        \n",
    "        image_id = torch.tensor([idx])\n",
    "        area = (boxes[:,3]-boxes[:,1]) * (boxes[:,2]-boxes[:,0])\n",
    "        iscrowd = torch.zeros((num_objs,), dtype=torch.int64)\n",
    "        \n",
    "        target = {}\n",
    "        target[\"boxes\"] = boxes\n",
    "        target[\"labels\"] = labels\n",
    "        target[\"masks\"] = masks\n",
    "        target[\"image_id\"] = image_id\n",
    "        target[\"area\"] = area\n",
    "        target[\"iscrowd\"] = iscrowd\n",
    "        \n",
    "        if self.transforms is not None:\n",
    "            img, target = self.transforms(img, target)\n",
    "            \n",
    "        return img, target\n",
    "    \n",
    "    def __len__(self):\n",
    "        return len(self.imgs)"
   ],
   "metadata": {
    "collapsed": false,
    "ExecuteTime": {
     "end_time": "2024-02-04T19:31:18.621001400Z",
     "start_time": "2024-02-04T19:31:18.592333500Z"
    }
   },
   "id": "ba09e699d085c445"
  },
  {
   "cell_type": "code",
   "execution_count": 11,
   "outputs": [],
   "source": [
    "def get_transform(train):\n",
    "    transforms = []\n",
    "    transforms.append(T.PILToTensor())\n",
    "    transforms.append(T.convertImageDtype(torch.float))\n",
    "    \n",
    "    if train:\n",
    "        transforms.append((T.RandomHorizontalFlip(0.5)))\n",
    "    return T.Compose(transforms)"
   ],
   "metadata": {
    "collapsed": false,
    "ExecuteTime": {
     "end_time": "2024-02-04T19:34:36.787361300Z",
     "start_time": "2024-02-04T19:34:36.756709300Z"
    }
   },
   "id": "e8e3f71a9b31d357"
  },
  {
   "cell_type": "code",
   "execution_count": 12,
   "outputs": [],
   "source": [
    "def train_dataset():\n",
    "    dataset = FoodDataset(root=root, transforms=get_transform(train=True), is_train=True)\n",
    "    loader = DataLoader(dataset=dataset,\n",
    "                        num_workers=0,\n",
    "                        batch_size=1,\n",
    "                        shuffle=False,\n",
    "                        collate_fn=utils.collate_fn)\n",
    "    return loader"
   ],
   "metadata": {
    "collapsed": false,
    "ExecuteTime": {
     "end_time": "2024-02-04T19:34:56.486587600Z",
     "start_time": "2024-02-04T19:34:56.467940400Z"
    }
   },
   "id": "defe51709ecf7a8"
  },
  {
   "cell_type": "code",
   "execution_count": null,
   "outputs": [],
   "source": [],
   "metadata": {
    "collapsed": false
   },
   "id": "7d853cbf6655ce24"
  }
 ],
 "metadata": {
  "kernelspec": {
   "display_name": "Python 3",
   "language": "python",
   "name": "python3"
  },
  "language_info": {
   "codemirror_mode": {
    "name": "ipython",
    "version": 2
   },
   "file_extension": ".py",
   "mimetype": "text/x-python",
   "name": "python",
   "nbconvert_exporter": "python",
   "pygments_lexer": "ipython2",
   "version": "2.7.6"
  }
 },
 "nbformat": 4,
 "nbformat_minor": 5
}
